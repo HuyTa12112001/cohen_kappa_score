{
 "cells": [
  {
   "cell_type": "code",
   "execution_count": 1,
   "id": "initial_id",
   "metadata": {
    "collapsed": true,
    "ExecuteTime": {
     "end_time": "2025-02-07T07:15:14.737450200Z",
     "start_time": "2025-02-07T07:14:55.889743Z"
    }
   },
   "outputs": [],
   "source": [
    "import torch\n",
    "import torch.nn as nn\n",
    "from dataset import MyDataset\n",
    "from torch.utils.data import DataLoader\n",
    "from torchvision.transforms import Compose, ToTensor, Resize, Normalize\n",
    "from torchvision.models import mobilenet_v3_large, MobileNet_V3_Large_Weights\n",
    "from torch.utils.tensorboard import SummaryWriter\n",
    "from sklearn.metrics import accuracy_score, cohen_kappa_score\n",
    "import numpy as np\n",
    "import os\n",
    "import shutil\n",
    "from tqdm.notebook import tqdm"
   ]
  },
  {
   "cell_type": "code",
   "execution_count": 2,
   "outputs": [
    {
     "name": "stderr",
     "output_type": "stream",
     "text": [
      "C:\\Users\\Dell\\AppData\\Local\\Temp\\ipykernel_22880\\734104322.py:25: FutureWarning: You are using `torch.load` with `weights_only=False` (the current default value), which uses the default pickle module implicitly. It is possible to construct malicious pickle data which will execute arbitrary code during unpickling (See https://github.com/pytorch/pytorch/blob/main/SECURITY.md#untrusted-models for more details). In a future release, the default value for `weights_only` will be flipped to `True`. This limits the functions that could be executed during unpickling. Arbitrary objects will no longer be allowed to be loaded via this mode unless they are explicitly allowlisted by the user via `torch.serialization.add_safe_globals`. We recommend you start setting `weights_only=True` for any use case where you don't have full control of the loaded file. Please open an issue on GitHub for any issues related to this experimental feature.\n",
      "  checkpoint = torch.load(\"trained_models/mobilenet_v3/last.pt\")\n"
     ]
    },
    {
     "name": "stdout",
     "output_type": "stream",
     "text": [
      "364\n"
     ]
    },
    {
     "data": {
      "text/plain": "  0%|          | 0/364 [00:00<?, ?it/s]",
      "application/vnd.jupyter.widget-view+json": {
       "version_major": 2,
       "version_minor": 0,
       "model_id": "fcb030f5fbd84663a6b5c48baa470ec7"
      }
     },
     "metadata": {},
     "output_type": "display_data"
    },
    {
     "name": "stdout",
     "output_type": "stream",
     "text": [
      "Avg_loss_train: 0.02771, Acc_train: 0.98626, Cohen_train: 0.97928\n"
     ]
    },
    {
     "data": {
      "text/plain": "  0%|          | 0/91 [00:00<?, ?it/s]",
      "application/vnd.jupyter.widget-view+json": {
       "version_major": 2,
       "version_minor": 0,
       "model_id": "4ca9190951354147bb686a672e872934"
      }
     },
     "metadata": {},
     "output_type": "display_data"
    },
    {
     "name": "stdout",
     "output_type": "stream",
     "text": [
      "Val_loss: 1.66482, Val_acc: 0.78846, Val_cohen_kappa_score: 0.67670\n"
     ]
    },
    {
     "data": {
      "text/plain": "  0%|          | 0/364 [00:00<?, ?it/s]",
      "application/vnd.jupyter.widget-view+json": {
       "version_major": 2,
       "version_minor": 0,
       "model_id": "d20b7f4f63234acbbd60b8c2326990c1"
      }
     },
     "metadata": {},
     "output_type": "display_data"
    },
    {
     "name": "stdout",
     "output_type": "stream",
     "text": [
      "Avg_loss_train: 0.02442, Acc_train: 0.98764, Cohen_train: 0.98135\n"
     ]
    },
    {
     "data": {
      "text/plain": "  0%|          | 0/91 [00:00<?, ?it/s]",
      "application/vnd.jupyter.widget-view+json": {
       "version_major": 2,
       "version_minor": 0,
       "model_id": "0577a342a8c44001b6308f77dc71a517"
      }
     },
     "metadata": {},
     "output_type": "display_data"
    },
    {
     "name": "stdout",
     "output_type": "stream",
     "text": [
      "Val_loss: 1.69092, Val_acc: 0.78709, Val_cohen_kappa_score: 0.67274\n"
     ]
    },
    {
     "data": {
      "text/plain": "  0%|          | 0/364 [00:00<?, ?it/s]",
      "application/vnd.jupyter.widget-view+json": {
       "version_major": 2,
       "version_minor": 0,
       "model_id": "d012b013a09f48baab61cbcb949ba1e9"
      }
     },
     "metadata": {},
     "output_type": "display_data"
    },
    {
     "name": "stdout",
     "output_type": "stream",
     "text": [
      "Avg_loss_train: 0.02197, Acc_train: 0.98695, Cohen_train: 0.98030\n"
     ]
    },
    {
     "data": {
      "text/plain": "  0%|          | 0/91 [00:00<?, ?it/s]",
      "application/vnd.jupyter.widget-view+json": {
       "version_major": 2,
       "version_minor": 0,
       "model_id": "cfea2153c2974487829f725ccfafc8eb"
      }
     },
     "metadata": {},
     "output_type": "display_data"
    },
    {
     "name": "stdout",
     "output_type": "stream",
     "text": [
      "Val_loss: 1.76289, Val_acc: 0.78846, Val_cohen_kappa_score: 0.67509\n"
     ]
    },
    {
     "data": {
      "text/plain": "  0%|          | 0/364 [00:00<?, ?it/s]",
      "application/vnd.jupyter.widget-view+json": {
       "version_major": 2,
       "version_minor": 0,
       "model_id": "5e0f25d7590d43c08cc67dd622c377fc"
      }
     },
     "metadata": {},
     "output_type": "display_data"
    },
    {
     "name": "stdout",
     "output_type": "stream",
     "text": [
      "Avg_loss_train: 0.02588, Acc_train: 0.98729, Cohen_train: 0.98085\n"
     ]
    },
    {
     "data": {
      "text/plain": "  0%|          | 0/91 [00:00<?, ?it/s]",
      "application/vnd.jupyter.widget-view+json": {
       "version_major": 2,
       "version_minor": 0,
       "model_id": "8345ed07a4b44991ae9b3c1884d05e47"
      }
     },
     "metadata": {},
     "output_type": "display_data"
    },
    {
     "name": "stdout",
     "output_type": "stream",
     "text": [
      "Val_loss: 1.68137, Val_acc: 0.79121, Val_cohen_kappa_score: 0.68102\n"
     ]
    },
    {
     "data": {
      "text/plain": "  0%|          | 0/364 [00:00<?, ?it/s]",
      "application/vnd.jupyter.widget-view+json": {
       "version_major": 2,
       "version_minor": 0,
       "model_id": "5932063b7a224643a5b1ac5012792794"
      }
     },
     "metadata": {},
     "output_type": "display_data"
    },
    {
     "name": "stdout",
     "output_type": "stream",
     "text": [
      "Avg_loss_train: 0.02518, Acc_train: 0.98901, Cohen_train: 0.98343\n"
     ]
    },
    {
     "data": {
      "text/plain": "  0%|          | 0/91 [00:00<?, ?it/s]",
      "application/vnd.jupyter.widget-view+json": {
       "version_major": 2,
       "version_minor": 0,
       "model_id": "487cf385b2ce4ca5ab0c74d869935e88"
      }
     },
     "metadata": {},
     "output_type": "display_data"
    },
    {
     "name": "stdout",
     "output_type": "stream",
     "text": [
      "Val_loss: 1.77597, Val_acc: 0.77198, Val_cohen_kappa_score: 0.64784\n"
     ]
    },
    {
     "data": {
      "text/plain": "  0%|          | 0/364 [00:00<?, ?it/s]",
      "application/vnd.jupyter.widget-view+json": {
       "version_major": 2,
       "version_minor": 0,
       "model_id": "e0837d69b8034b74b97dc7b07e9a3e33"
      }
     },
     "metadata": {},
     "output_type": "display_data"
    },
    {
     "name": "stdout",
     "output_type": "stream",
     "text": [
      "Avg_loss_train: 0.06289, Acc_train: 0.97665, Cohen_train: 0.96473\n"
     ]
    },
    {
     "data": {
      "text/plain": "  0%|          | 0/91 [00:00<?, ?it/s]",
      "application/vnd.jupyter.widget-view+json": {
       "version_major": 2,
       "version_minor": 0,
       "model_id": "c7eaba7982994290888ba9a61e7d44f1"
      }
     },
     "metadata": {},
     "output_type": "display_data"
    },
    {
     "name": "stdout",
     "output_type": "stream",
     "text": [
      "Val_loss: 1.75667, Val_acc: 0.78297, Val_cohen_kappa_score: 0.67347\n"
     ]
    },
    {
     "data": {
      "text/plain": "  0%|          | 0/364 [00:00<?, ?it/s]",
      "application/vnd.jupyter.widget-view+json": {
       "version_major": 2,
       "version_minor": 0,
       "model_id": "a76d2e96fd144d0a9765fbc715266641"
      }
     },
     "metadata": {},
     "output_type": "display_data"
    },
    {
     "name": "stdout",
     "output_type": "stream",
     "text": [
      "Avg_loss_train: 0.07235, Acc_train: 0.97562, Cohen_train: 0.96322\n"
     ]
    },
    {
     "data": {
      "text/plain": "  0%|          | 0/91 [00:00<?, ?it/s]",
      "application/vnd.jupyter.widget-view+json": {
       "version_major": 2,
       "version_minor": 0,
       "model_id": "a48886fccf554edfbafd8d6dbe04a74d"
      }
     },
     "metadata": {},
     "output_type": "display_data"
    },
    {
     "name": "stdout",
     "output_type": "stream",
     "text": [
      "Val_loss: 1.43806, Val_acc: 0.78709, Val_cohen_kappa_score: 0.67846\n"
     ]
    },
    {
     "data": {
      "text/plain": "  0%|          | 0/364 [00:00<?, ?it/s]",
      "application/vnd.jupyter.widget-view+json": {
       "version_major": 2,
       "version_minor": 0,
       "model_id": "b45a9232b9024cab988719d3ba6e284b"
      }
     },
     "metadata": {},
     "output_type": "display_data"
    },
    {
     "name": "stdout",
     "output_type": "stream",
     "text": [
      "Avg_loss_train: 0.03141, Acc_train: 0.98523, Cohen_train: 0.97774\n"
     ]
    },
    {
     "data": {
      "text/plain": "  0%|          | 0/91 [00:00<?, ?it/s]",
      "application/vnd.jupyter.widget-view+json": {
       "version_major": 2,
       "version_minor": 0,
       "model_id": "f561c7b1ced647ca8c21ca5fc5c68d63"
      }
     },
     "metadata": {},
     "output_type": "display_data"
    },
    {
     "name": "stdout",
     "output_type": "stream",
     "text": [
      "Val_loss: 1.72209, Val_acc: 0.78022, Val_cohen_kappa_score: 0.66615\n"
     ]
    },
    {
     "data": {
      "text/plain": "  0%|          | 0/364 [00:00<?, ?it/s]",
      "application/vnd.jupyter.widget-view+json": {
       "version_major": 2,
       "version_minor": 0,
       "model_id": "2390a3adcf324f1f8eb074d8f24c31a6"
      }
     },
     "metadata": {},
     "output_type": "display_data"
    },
    {
     "name": "stdout",
     "output_type": "stream",
     "text": [
      "Avg_loss_train: 0.02285, Acc_train: 0.98935, Cohen_train: 0.98395\n"
     ]
    },
    {
     "data": {
      "text/plain": "  0%|          | 0/91 [00:00<?, ?it/s]",
      "application/vnd.jupyter.widget-view+json": {
       "version_major": 2,
       "version_minor": 0,
       "model_id": "6656603bbb834dbfa8ad5c4cf55116be"
      }
     },
     "metadata": {},
     "output_type": "display_data"
    },
    {
     "name": "stdout",
     "output_type": "stream",
     "text": [
      "Val_loss: 1.54009, Val_acc: 0.78984, Val_cohen_kappa_score: 0.68245\n"
     ]
    },
    {
     "data": {
      "text/plain": "  0%|          | 0/364 [00:00<?, ?it/s]",
      "application/vnd.jupyter.widget-view+json": {
       "version_major": 2,
       "version_minor": 0,
       "model_id": "27cf221bb2bb4e8fb8911fcaf175cc22"
      }
     },
     "metadata": {},
     "output_type": "display_data"
    },
    {
     "name": "stdout",
     "output_type": "stream",
     "text": [
      "Avg_loss_train: 0.02044, Acc_train: 0.98832, Cohen_train: 0.98240\n"
     ]
    },
    {
     "data": {
      "text/plain": "  0%|          | 0/91 [00:00<?, ?it/s]",
      "application/vnd.jupyter.widget-view+json": {
       "version_major": 2,
       "version_minor": 0,
       "model_id": "628435a83b2b4f679f40c8e80e1c5913"
      }
     },
     "metadata": {},
     "output_type": "display_data"
    },
    {
     "name": "stdout",
     "output_type": "stream",
     "text": [
      "Val_loss: 1.70433, Val_acc: 0.79670, Val_cohen_kappa_score: 0.69170\n"
     ]
    },
    {
     "data": {
      "text/plain": "  0%|          | 0/364 [00:00<?, ?it/s]",
      "application/vnd.jupyter.widget-view+json": {
       "version_major": 2,
       "version_minor": 0,
       "model_id": "39db5aca1b4a4a2489c1b32a18a3da82"
      }
     },
     "metadata": {},
     "output_type": "display_data"
    },
    {
     "name": "stdout",
     "output_type": "stream",
     "text": [
      "Avg_loss_train: 0.02060, Acc_train: 0.98764, Cohen_train: 0.98135\n"
     ]
    },
    {
     "data": {
      "text/plain": "  0%|          | 0/91 [00:00<?, ?it/s]",
      "application/vnd.jupyter.widget-view+json": {
       "version_major": 2,
       "version_minor": 0,
       "model_id": "209e52e38c6e44bebfaf26f6e1604210"
      }
     },
     "metadata": {},
     "output_type": "display_data"
    },
    {
     "name": "stdout",
     "output_type": "stream",
     "text": [
      "Val_loss: 1.59493, Val_acc: 0.80082, Val_cohen_kappa_score: 0.69657\n"
     ]
    },
    {
     "data": {
      "text/plain": "  0%|          | 0/364 [00:00<?, ?it/s]",
      "application/vnd.jupyter.widget-view+json": {
       "version_major": 2,
       "version_minor": 0,
       "model_id": "0946535119934b6386d1baedc57fc12f"
      }
     },
     "metadata": {},
     "output_type": "display_data"
    },
    {
     "name": "stdout",
     "output_type": "stream",
     "text": [
      "Avg_loss_train: 0.01899, Acc_train: 0.98867, Cohen_train: 0.98293\n"
     ]
    },
    {
     "data": {
      "text/plain": "  0%|          | 0/91 [00:00<?, ?it/s]",
      "application/vnd.jupyter.widget-view+json": {
       "version_major": 2,
       "version_minor": 0,
       "model_id": "7864f63c79e84cba8d0eb5ff6489d35b"
      }
     },
     "metadata": {},
     "output_type": "display_data"
    },
    {
     "name": "stdout",
     "output_type": "stream",
     "text": [
      "Val_loss: 1.74102, Val_acc: 0.79670, Val_cohen_kappa_score: 0.68825\n"
     ]
    },
    {
     "data": {
      "text/plain": "  0%|          | 0/364 [00:00<?, ?it/s]",
      "application/vnd.jupyter.widget-view+json": {
       "version_major": 2,
       "version_minor": 0,
       "model_id": "3e9d04d8abd14713b42e6caeeb2c3bbf"
      }
     },
     "metadata": {},
     "output_type": "display_data"
    },
    {
     "name": "stdout",
     "output_type": "stream",
     "text": [
      "Avg_loss_train: 0.02354, Acc_train: 0.99038, Cohen_train: 0.98550\n"
     ]
    },
    {
     "data": {
      "text/plain": "  0%|          | 0/91 [00:00<?, ?it/s]",
      "application/vnd.jupyter.widget-view+json": {
       "version_major": 2,
       "version_minor": 0,
       "model_id": "822fd5ad10714d43ad465a955b0a7c35"
      }
     },
     "metadata": {},
     "output_type": "display_data"
    },
    {
     "name": "stdout",
     "output_type": "stream",
     "text": [
      "Val_loss: 1.60097, Val_acc: 0.80220, Val_cohen_kappa_score: 0.69784\n"
     ]
    },
    {
     "data": {
      "text/plain": "  0%|          | 0/364 [00:00<?, ?it/s]",
      "application/vnd.jupyter.widget-view+json": {
       "version_major": 2,
       "version_minor": 0,
       "model_id": "bcefcc4ed2ad4c349cf2413aead7bd92"
      }
     },
     "metadata": {},
     "output_type": "display_data"
    },
    {
     "name": "stdout",
     "output_type": "stream",
     "text": [
      "Avg_loss_train: 0.01971, Acc_train: 0.98970, Cohen_train: 0.98444\n"
     ]
    },
    {
     "data": {
      "text/plain": "  0%|          | 0/91 [00:00<?, ?it/s]",
      "application/vnd.jupyter.widget-view+json": {
       "version_major": 2,
       "version_minor": 0,
       "model_id": "2e01f5a20bf24034988a2166467699ed"
      }
     },
     "metadata": {},
     "output_type": "display_data"
    },
    {
     "name": "stdout",
     "output_type": "stream",
     "text": [
      "Val_loss: 1.52610, Val_acc: 0.79945, Val_cohen_kappa_score: 0.69435\n"
     ]
    },
    {
     "data": {
      "text/plain": "  0%|          | 0/364 [00:00<?, ?it/s]",
      "application/vnd.jupyter.widget-view+json": {
       "version_major": 2,
       "version_minor": 0,
       "model_id": "e2fe4cb5e68549fa9965ff63c031d54b"
      }
     },
     "metadata": {},
     "output_type": "display_data"
    },
    {
     "name": "stdout",
     "output_type": "stream",
     "text": [
      "Avg_loss_train: 0.03787, Acc_train: 0.98214, Cohen_train: 0.97302\n"
     ]
    },
    {
     "data": {
      "text/plain": "  0%|          | 0/91 [00:00<?, ?it/s]",
      "application/vnd.jupyter.widget-view+json": {
       "version_major": 2,
       "version_minor": 0,
       "model_id": "9525b9b32de54bc7b01c33c3dfd8bae2"
      }
     },
     "metadata": {},
     "output_type": "display_data"
    },
    {
     "name": "stdout",
     "output_type": "stream",
     "text": [
      "Val_loss: 1.72818, Val_acc: 0.73764, Val_cohen_kappa_score: 0.60828\n"
     ]
    },
    {
     "data": {
      "text/plain": "  0%|          | 0/364 [00:00<?, ?it/s]",
      "application/vnd.jupyter.widget-view+json": {
       "version_major": 2,
       "version_minor": 0,
       "model_id": "e7fc11dd0bf54e2a9551a7787a44e3a8"
      }
     },
     "metadata": {},
     "output_type": "display_data"
    },
    {
     "name": "stdout",
     "output_type": "stream",
     "text": [
      "Avg_loss_train: 0.07810, Acc_train: 0.97562, Cohen_train: 0.96323\n"
     ]
    },
    {
     "data": {
      "text/plain": "  0%|          | 0/91 [00:00<?, ?it/s]",
      "application/vnd.jupyter.widget-view+json": {
       "version_major": 2,
       "version_minor": 0,
       "model_id": "9cbb73bff5b646338488ad3a34411507"
      }
     },
     "metadata": {},
     "output_type": "display_data"
    },
    {
     "name": "stdout",
     "output_type": "stream",
     "text": [
      "Val_loss: 1.75683, Val_acc: 0.78846, Val_cohen_kappa_score: 0.67555\n"
     ]
    },
    {
     "data": {
      "text/plain": "  0%|          | 0/364 [00:00<?, ?it/s]",
      "application/vnd.jupyter.widget-view+json": {
       "version_major": 2,
       "version_minor": 0,
       "model_id": "31f5ab7aed3c4115b8dff1fba48c9233"
      }
     },
     "metadata": {},
     "output_type": "display_data"
    },
    {
     "name": "stdout",
     "output_type": "stream",
     "text": [
      "Avg_loss_train: 0.04507, Acc_train: 0.98043, Cohen_train: 0.97049\n"
     ]
    },
    {
     "data": {
      "text/plain": "  0%|          | 0/91 [00:00<?, ?it/s]",
      "application/vnd.jupyter.widget-view+json": {
       "version_major": 2,
       "version_minor": 0,
       "model_id": "28fef756b72e41fabb85453eefa9f208"
      }
     },
     "metadata": {},
     "output_type": "display_data"
    },
    {
     "name": "stdout",
     "output_type": "stream",
     "text": [
      "Val_loss: 1.41794, Val_acc: 0.79121, Val_cohen_kappa_score: 0.68133\n"
     ]
    },
    {
     "data": {
      "text/plain": "  0%|          | 0/364 [00:00<?, ?it/s]",
      "application/vnd.jupyter.widget-view+json": {
       "version_major": 2,
       "version_minor": 0,
       "model_id": "77fb7318f44a47f58ff859bbeec006dd"
      }
     },
     "metadata": {},
     "output_type": "display_data"
    },
    {
     "name": "stdout",
     "output_type": "stream",
     "text": [
      "Avg_loss_train: 0.03294, Acc_train: 0.98729, Cohen_train: 0.98085\n"
     ]
    },
    {
     "data": {
      "text/plain": "  0%|          | 0/91 [00:00<?, ?it/s]",
      "application/vnd.jupyter.widget-view+json": {
       "version_major": 2,
       "version_minor": 0,
       "model_id": "e157343bd19f4b8fba32f32a5af10ac2"
      }
     },
     "metadata": {},
     "output_type": "display_data"
    },
    {
     "name": "stdout",
     "output_type": "stream",
     "text": [
      "Val_loss: 1.47838, Val_acc: 0.79670, Val_cohen_kappa_score: 0.68676\n"
     ]
    },
    {
     "data": {
      "text/plain": "  0%|          | 0/364 [00:00<?, ?it/s]",
      "application/vnd.jupyter.widget-view+json": {
       "version_major": 2,
       "version_minor": 0,
       "model_id": "16791858eeb146628144e7f263741ed9"
      }
     },
     "metadata": {},
     "output_type": "display_data"
    },
    {
     "name": "stdout",
     "output_type": "stream",
     "text": [
      "Avg_loss_train: 0.02237, Acc_train: 0.98935, Cohen_train: 0.98395\n"
     ]
    },
    {
     "data": {
      "text/plain": "  0%|          | 0/91 [00:00<?, ?it/s]",
      "application/vnd.jupyter.widget-view+json": {
       "version_major": 2,
       "version_minor": 0,
       "model_id": "0ce6854957034efab1fdd1fd861eb0c8"
      }
     },
     "metadata": {},
     "output_type": "display_data"
    },
    {
     "name": "stdout",
     "output_type": "stream",
     "text": [
      "Val_loss: 1.62315, Val_acc: 0.79258, Val_cohen_kappa_score: 0.68515\n"
     ]
    },
    {
     "data": {
      "text/plain": "  0%|          | 0/364 [00:00<?, ?it/s]",
      "application/vnd.jupyter.widget-view+json": {
       "version_major": 2,
       "version_minor": 0,
       "model_id": "13e18639d5c74568b5dfb2504d91bb9e"
      }
     },
     "metadata": {},
     "output_type": "display_data"
    },
    {
     "name": "stdout",
     "output_type": "stream",
     "text": [
      "Avg_loss_train: 0.02520, Acc_train: 0.98798, Cohen_train: 0.98188\n"
     ]
    },
    {
     "data": {
      "text/plain": "  0%|          | 0/91 [00:00<?, ?it/s]",
      "application/vnd.jupyter.widget-view+json": {
       "version_major": 2,
       "version_minor": 0,
       "model_id": "dcc53134ecb44d69b8abb39545f9d516"
      }
     },
     "metadata": {},
     "output_type": "display_data"
    },
    {
     "name": "stdout",
     "output_type": "stream",
     "text": [
      "Val_loss: 1.46282, Val_acc: 0.78571, Val_cohen_kappa_score: 0.67099\n"
     ]
    },
    {
     "data": {
      "text/plain": "  0%|          | 0/364 [00:00<?, ?it/s]",
      "application/vnd.jupyter.widget-view+json": {
       "version_major": 2,
       "version_minor": 0,
       "model_id": "82c30c07a4fd410c9de67e6fbea29ee9"
      }
     },
     "metadata": {},
     "output_type": "display_data"
    },
    {
     "name": "stdout",
     "output_type": "stream",
     "text": [
      "Avg_loss_train: 0.01864, Acc_train: 0.99004, Cohen_train: 0.98498\n"
     ]
    },
    {
     "data": {
      "text/plain": "  0%|          | 0/91 [00:00<?, ?it/s]",
      "application/vnd.jupyter.widget-view+json": {
       "version_major": 2,
       "version_minor": 0,
       "model_id": "1bd468f88a934d51ba04569a15396000"
      }
     },
     "metadata": {},
     "output_type": "display_data"
    },
    {
     "name": "stdout",
     "output_type": "stream",
     "text": [
      "Val_loss: 1.54972, Val_acc: 0.78846, Val_cohen_kappa_score: 0.67581\n"
     ]
    },
    {
     "data": {
      "text/plain": "  0%|          | 0/364 [00:00<?, ?it/s]",
      "application/vnd.jupyter.widget-view+json": {
       "version_major": 2,
       "version_minor": 0,
       "model_id": "501d5c8ace984e399a2b2cb795e2ee2d"
      }
     },
     "metadata": {},
     "output_type": "display_data"
    },
    {
     "name": "stdout",
     "output_type": "stream",
     "text": [
      "Avg_loss_train: 0.01964, Acc_train: 0.99073, Cohen_train: 0.98602\n"
     ]
    },
    {
     "data": {
      "text/plain": "  0%|          | 0/91 [00:00<?, ?it/s]",
      "application/vnd.jupyter.widget-view+json": {
       "version_major": 2,
       "version_minor": 0,
       "model_id": "5d9208fa85d146f6908d98d0d93533aa"
      }
     },
     "metadata": {},
     "output_type": "display_data"
    },
    {
     "name": "stdout",
     "output_type": "stream",
     "text": [
      "Val_loss: 1.59972, Val_acc: 0.77747, Val_cohen_kappa_score: 0.66396\n"
     ]
    },
    {
     "data": {
      "text/plain": "  0%|          | 0/364 [00:00<?, ?it/s]",
      "application/vnd.jupyter.widget-view+json": {
       "version_major": 2,
       "version_minor": 0,
       "model_id": "b7b1fcbdb4d2477aa555a3fd7e9ff5ff"
      }
     },
     "metadata": {},
     "output_type": "display_data"
    },
    {
     "name": "stdout",
     "output_type": "stream",
     "text": [
      "Avg_loss_train: 0.04780, Acc_train: 0.98317, Cohen_train: 0.97465\n"
     ]
    },
    {
     "data": {
      "text/plain": "  0%|          | 0/91 [00:00<?, ?it/s]",
      "application/vnd.jupyter.widget-view+json": {
       "version_major": 2,
       "version_minor": 0,
       "model_id": "be6513413a1e4215b907fe9c73779db8"
      }
     },
     "metadata": {},
     "output_type": "display_data"
    },
    {
     "name": "stdout",
     "output_type": "stream",
     "text": [
      "Val_loss: 1.59016, Val_acc: 0.77335, Val_cohen_kappa_score: 0.64756\n"
     ]
    },
    {
     "data": {
      "text/plain": "  0%|          | 0/364 [00:00<?, ?it/s]",
      "application/vnd.jupyter.widget-view+json": {
       "version_major": 2,
       "version_minor": 0,
       "model_id": "da2f0a3b0a484fbdb4f0759ba7f695dc"
      }
     },
     "metadata": {},
     "output_type": "display_data"
    },
    {
     "name": "stdout",
     "output_type": "stream",
     "text": [
      "Avg_loss_train: 0.04367, Acc_train: 0.98249, Cohen_train: 0.97358\n"
     ]
    },
    {
     "data": {
      "text/plain": "  0%|          | 0/91 [00:00<?, ?it/s]",
      "application/vnd.jupyter.widget-view+json": {
       "version_major": 2,
       "version_minor": 0,
       "model_id": "3beae1876ba4499c9f7197ed2ccb3638"
      }
     },
     "metadata": {},
     "output_type": "display_data"
    },
    {
     "name": "stdout",
     "output_type": "stream",
     "text": [
      "Val_loss: 1.73160, Val_acc: 0.77747, Val_cohen_kappa_score: 0.65643\n"
     ]
    },
    {
     "data": {
      "text/plain": "  0%|          | 0/364 [00:00<?, ?it/s]",
      "application/vnd.jupyter.widget-view+json": {
       "version_major": 2,
       "version_minor": 0,
       "model_id": "f1a3b18c7f744bd48dd63d2da34a2482"
      }
     },
     "metadata": {},
     "output_type": "display_data"
    },
    {
     "name": "stdout",
     "output_type": "stream",
     "text": [
      "Avg_loss_train: 0.02740, Acc_train: 0.98729, Cohen_train: 0.98083\n"
     ]
    },
    {
     "data": {
      "text/plain": "  0%|          | 0/91 [00:00<?, ?it/s]",
      "application/vnd.jupyter.widget-view+json": {
       "version_major": 2,
       "version_minor": 0,
       "model_id": "e39fdf3b284a43d3a467542fbec8d339"
      }
     },
     "metadata": {},
     "output_type": "display_data"
    },
    {
     "name": "stdout",
     "output_type": "stream",
     "text": [
      "Val_loss: 1.73015, Val_acc: 0.76648, Val_cohen_kappa_score: 0.64736\n"
     ]
    },
    {
     "data": {
      "text/plain": "  0%|          | 0/364 [00:00<?, ?it/s]",
      "application/vnd.jupyter.widget-view+json": {
       "version_major": 2,
       "version_minor": 0,
       "model_id": "cb76a4a712ae4352a9a21b7c6f256754"
      }
     },
     "metadata": {},
     "output_type": "display_data"
    },
    {
     "name": "stdout",
     "output_type": "stream",
     "text": [
      "Avg_loss_train: 0.06355, Acc_train: 0.97699, Cohen_train: 0.96530\n"
     ]
    },
    {
     "data": {
      "text/plain": "  0%|          | 0/91 [00:00<?, ?it/s]",
      "application/vnd.jupyter.widget-view+json": {
       "version_major": 2,
       "version_minor": 0,
       "model_id": "41b4f4de74ef42d6af9a7bb5ffb54ed1"
      }
     },
     "metadata": {},
     "output_type": "display_data"
    },
    {
     "name": "stdout",
     "output_type": "stream",
     "text": [
      "Val_loss: 1.59310, Val_acc: 0.78159, Val_cohen_kappa_score: 0.67208\n"
     ]
    },
    {
     "data": {
      "text/plain": "  0%|          | 0/364 [00:00<?, ?it/s]",
      "application/vnd.jupyter.widget-view+json": {
       "version_major": 2,
       "version_minor": 0,
       "model_id": "a8b0cbc108624cc6950120398d82f961"
      }
     },
     "metadata": {},
     "output_type": "display_data"
    },
    {
     "name": "stdout",
     "output_type": "stream",
     "text": [
      "Avg_loss_train: 0.03659, Acc_train: 0.98386, Cohen_train: 0.97565\n"
     ]
    },
    {
     "data": {
      "text/plain": "  0%|          | 0/91 [00:00<?, ?it/s]",
      "application/vnd.jupyter.widget-view+json": {
       "version_major": 2,
       "version_minor": 0,
       "model_id": "b58dd25e1d1848d799f58cc523ee2178"
      }
     },
     "metadata": {},
     "output_type": "display_data"
    },
    {
     "name": "stdout",
     "output_type": "stream",
     "text": [
      "Val_loss: 1.52154, Val_acc: 0.79945, Val_cohen_kappa_score: 0.69503\n"
     ]
    },
    {
     "data": {
      "text/plain": "  0%|          | 0/364 [00:00<?, ?it/s]",
      "application/vnd.jupyter.widget-view+json": {
       "version_major": 2,
       "version_minor": 0,
       "model_id": "4c358f5d0b59424db85c7bd511fe1ad2"
      }
     },
     "metadata": {},
     "output_type": "display_data"
    },
    {
     "name": "stdout",
     "output_type": "stream",
     "text": [
      "Avg_loss_train: 0.02650, Acc_train: 0.98523, Cohen_train: 0.97773\n"
     ]
    },
    {
     "data": {
      "text/plain": "  0%|          | 0/91 [00:00<?, ?it/s]",
      "application/vnd.jupyter.widget-view+json": {
       "version_major": 2,
       "version_minor": 0,
       "model_id": "9d53ac1c1fc14435bf4a666183214081"
      }
     },
     "metadata": {},
     "output_type": "display_data"
    },
    {
     "name": "stdout",
     "output_type": "stream",
     "text": [
      "Val_loss: 1.68417, Val_acc: 0.78571, Val_cohen_kappa_score: 0.67839\n"
     ]
    },
    {
     "data": {
      "text/plain": "  0%|          | 0/364 [00:00<?, ?it/s]",
      "application/vnd.jupyter.widget-view+json": {
       "version_major": 2,
       "version_minor": 0,
       "model_id": "6565f6786bca4ab2a2c317510435fbed"
      }
     },
     "metadata": {},
     "output_type": "display_data"
    },
    {
     "name": "stdout",
     "output_type": "stream",
     "text": [
      "Avg_loss_train: 0.02056, Acc_train: 0.98867, Cohen_train: 0.98292\n"
     ]
    },
    {
     "data": {
      "text/plain": "  0%|          | 0/91 [00:00<?, ?it/s]",
      "application/vnd.jupyter.widget-view+json": {
       "version_major": 2,
       "version_minor": 0,
       "model_id": "02e19171ad01493eb48cad86a0d9f823"
      }
     },
     "metadata": {},
     "output_type": "display_data"
    },
    {
     "name": "stdout",
     "output_type": "stream",
     "text": [
      "Val_loss: 1.58797, Val_acc: 0.80220, Val_cohen_kappa_score: 0.69917\n"
     ]
    },
    {
     "data": {
      "text/plain": "  0%|          | 0/364 [00:00<?, ?it/s]",
      "application/vnd.jupyter.widget-view+json": {
       "version_major": 2,
       "version_minor": 0,
       "model_id": "4184fda5c2154bf790def206b2f1d0e9"
      }
     },
     "metadata": {},
     "output_type": "display_data"
    },
    {
     "name": "stdout",
     "output_type": "stream",
     "text": [
      "Avg_loss_train: 0.02169, Acc_train: 0.98970, Cohen_train: 0.98446\n"
     ]
    },
    {
     "data": {
      "text/plain": "  0%|          | 0/91 [00:00<?, ?it/s]",
      "application/vnd.jupyter.widget-view+json": {
       "version_major": 2,
       "version_minor": 0,
       "model_id": "4ec9cee6fd6b4461ad37d5ce9002aa42"
      }
     },
     "metadata": {},
     "output_type": "display_data"
    },
    {
     "name": "stdout",
     "output_type": "stream",
     "text": [
      "Val_loss: 1.55620, Val_acc: 0.79808, Val_cohen_kappa_score: 0.69236\n"
     ]
    },
    {
     "data": {
      "text/plain": "  0%|          | 0/364 [00:00<?, ?it/s]",
      "application/vnd.jupyter.widget-view+json": {
       "version_major": 2,
       "version_minor": 0,
       "model_id": "c51d9d960dd742ea92d535db6b24aa03"
      }
     },
     "metadata": {},
     "output_type": "display_data"
    },
    {
     "name": "stdout",
     "output_type": "stream",
     "text": [
      "Avg_loss_train: 0.05155, Acc_train: 0.98283, Cohen_train: 0.97408\n"
     ]
    },
    {
     "data": {
      "text/plain": "  0%|          | 0/91 [00:00<?, ?it/s]",
      "application/vnd.jupyter.widget-view+json": {
       "version_major": 2,
       "version_minor": 0,
       "model_id": "9943e68b1d8c4f5a8b99136c3dc337e2"
      }
     },
     "metadata": {},
     "output_type": "display_data"
    },
    {
     "name": "stdout",
     "output_type": "stream",
     "text": [
      "Val_loss: 1.82835, Val_acc: 0.76786, Val_cohen_kappa_score: 0.65002\n"
     ]
    },
    {
     "data": {
      "text/plain": "  0%|          | 0/364 [00:00<?, ?it/s]",
      "application/vnd.jupyter.widget-view+json": {
       "version_major": 2,
       "version_minor": 0,
       "model_id": "6244bd5534f44843bbe4f5322cfdd35c"
      }
     },
     "metadata": {},
     "output_type": "display_data"
    },
    {
     "name": "stdout",
     "output_type": "stream",
     "text": [
      "Avg_loss_train: 0.04760, Acc_train: 0.98043, Cohen_train: 0.97049\n"
     ]
    },
    {
     "data": {
      "text/plain": "  0%|          | 0/91 [00:00<?, ?it/s]",
      "application/vnd.jupyter.widget-view+json": {
       "version_major": 2,
       "version_minor": 0,
       "model_id": "92746c47defb433f88bce902159066f3"
      }
     },
     "metadata": {},
     "output_type": "display_data"
    },
    {
     "name": "stdout",
     "output_type": "stream",
     "text": [
      "Val_loss: 1.95362, Val_acc: 0.78709, Val_cohen_kappa_score: 0.67568\n"
     ]
    },
    {
     "data": {
      "text/plain": "  0%|          | 0/364 [00:00<?, ?it/s]",
      "application/vnd.jupyter.widget-view+json": {
       "version_major": 2,
       "version_minor": 0,
       "model_id": "a5692cab9aa64b4784fc9e3566971c11"
      }
     },
     "metadata": {},
     "output_type": "display_data"
    },
    {
     "name": "stderr",
     "output_type": "stream",
     "text": [
      "\n",
      "KeyboardInterrupt\n",
      "\n"
     ]
    }
   ],
   "source": [
    "def train():\n",
    "    device = torch.device(\"cuda\" if torch.cuda.is_available() else \"cpu\")\n",
    "    train_transform = Compose([ToTensor(), \n",
    "                               # RandomAffine(degrees=(-5, 5), translate=(0.15, 0.15), scale=(0.85, 1), shear=10),\n",
    "                               Resize((224, 224)), \n",
    "                               # ColorJitter(brightness=0.125, contrast=0.5, saturation=0.5, hue=0.05),\n",
    "                               Normalize(mean=[0.485, 0.456, 0.406], std=[0.229, 0.224, 0.225]) ])\n",
    "    test_transform = Compose([ToTensor(),\n",
    "                              Resize((224, 224)),\n",
    "                              Normalize(mean=[0.485, 0.456, 0.406], std=[0.229, 0.224, 0.225])])\n",
    "    train_dataset = MyDataset(data_path=\"data/train_images\", csv_file=\"train-1.csv\", is_train=True, transform=train_transform)\n",
    "    train_dataloader = DataLoader(dataset=train_dataset, batch_size=8, drop_last=True, shuffle=True, num_workers=4)\n",
    "    val_dataset = MyDataset(data_path=\"data/train_images\", csv_file=\"train-2.csv\", is_train=False, transform=test_transform)\n",
    "    val_dataloader = DataLoader(dataset=val_dataset, batch_size=8, drop_last=True, shuffle=True, num_workers=4)\n",
    "    \n",
    "    model = mobilenet_v3_large(weights=MobileNet_V3_Large_Weights.DEFAULT)\n",
    "    model.classifier[3] = nn.Linear(1280, 5)\n",
    "    model.to(device)\n",
    "    \n",
    "    criterion = nn.CrossEntropyLoss()\n",
    "    # optimizer = torch.optim.SGD(params=model.parameters(), lr=1e-10, momentum=0.9)\n",
    "    optimizer = torch.optim.Adam(params=model.parameters(), lr=1e-3, betas=(0.9, 0.999))\n",
    "    \n",
    "    if os.path.exists(\"trained_models/mobilenet_v3/last.pt\"):\n",
    "        checkpoint = torch.load(\"trained_models/mobilenet_v3/last.pt\")\n",
    "        model.load_state_dict(checkpoint[\"model\"])\n",
    "        optimizer.load_state_dict(checkpoint[\"optimizer\"])\n",
    "        start_epoch = checkpoint[\"epoch\"]\n",
    "        best_acc = checkpoint[\"best_acc\"]\n",
    "    else:\n",
    "        start_epoch = 0\n",
    "        best_acc = -1\n",
    "        \n",
    "    if os.path.isdir(\"tensorboard/mobilenet_v3\"):\n",
    "        shutil.rmtree(\"tensorboard/mobilenet_v3\")\n",
    "    os.makedirs(\"tensorboard/mobilenet_v3\")\n",
    "    # len(train_dataloader) = 1831, num_iters_per_epoch = 229 when batch_size = 8\n",
    "    num_iters_per_epoch = len(train_dataloader)\n",
    "    print(num_iters_per_epoch)\n",
    "    writer = SummaryWriter(\"tensorboard/mobilenet_v3\")\n",
    "    for epoch in range(start_epoch, 400):\n",
    "\n",
    "        # TRAINING\n",
    "        model.train()\n",
    "        train_loss = []\n",
    "        train_labels = []\n",
    "        train_predictions = []\n",
    "        avg_loss= 0\n",
    "        progress_bar = tqdm(train_dataloader, colour=\"green\")\n",
    "        for iter, (images, labels) in enumerate(progress_bar):\n",
    "            images = images.to(device)\n",
    "            labels = labels.to(device)\n",
    "            predictions = model(images)\n",
    "            loss = criterion(predictions, labels)\n",
    "            predictions_class = torch.argmax(predictions, dim=1)\n",
    "            train_labels.extend(labels.tolist())\n",
    "            train_predictions.extend(predictions_class.tolist())\n",
    "            optimizer.zero_grad()\n",
    "            loss.backward()\n",
    "            optimizer.step()\n",
    "            train_loss.append(loss.item())\n",
    "            avg_loss = np.mean(train_loss)\n",
    "            progress_bar.set_description(\" Epoch: {}/400. Loss: {:.5f}\".format(epoch+1, avg_loss))\n",
    "            writer.add_scalar(\"Train/Loss\", avg_loss, epoch * num_iters_per_epoch + iter)\n",
    "        acc_train = accuracy_score(train_labels, train_predictions)\n",
    "        cohen_train = cohen_kappa_score(train_labels, train_predictions)\n",
    "        print(\"Avg_loss_train: {:.5f}, Acc_train: {:.5f}, Cohen_train: {:.5f}\".format(avg_loss, acc_train, cohen_train))\n",
    "        \n",
    "        # VALIDATION\n",
    "        model.eval()\n",
    "        progress_bar = tqdm(val_dataloader, colour=\"yellow\")\n",
    "        all_labels = []\n",
    "        all_predictions = []\n",
    "        all_losses = []\n",
    "        with torch.no_grad():\n",
    "            for images, labels in progress_bar:\n",
    "                images = images.to(device)\n",
    "                labels = labels.to(device)\n",
    "                prediction = model(images)\n",
    "                loss = criterion(prediction, labels)\n",
    "                predicted_class = torch.argmax(prediction, dim=1)\n",
    "                all_labels.extend(labels.tolist())\n",
    "                all_predictions.extend(predicted_class.tolist())\n",
    "                all_losses.append(loss.item())\n",
    "        loss = np.mean(all_losses)\n",
    "        acc = accuracy_score(all_predictions, all_labels)\n",
    "        cohenscore = cohen_kappa_score(all_predictions, all_labels)\n",
    "        print(\"Val_loss: {:.5f}, Val_acc: {:.5f}, Val_cohen_kappa_score: {:.5f}\".format(loss, acc, cohenscore))\n",
    "        writer.add_scalar(\"Val/Loss\", loss, epoch)\n",
    "        writer.add_scalar(\"Val/Acc\", acc, epoch)\n",
    "\n",
    "        # Save checkpoint\n",
    "        checkpoint = {\n",
    "            \"epoch\": epoch+1,\n",
    "            \"best_acc\": best_acc,\n",
    "            \"model\": model.state_dict(),\n",
    "            \"optimizer\": optimizer.state_dict()\n",
    "        }\n",
    "        torch.save(checkpoint, os.path.join(\"trained_models/mobilenet_v3\", \"last.pt\"))\n",
    "        if acc > best_acc:\n",
    "            best_acc = acc\n",
    "            torch.save(checkpoint, os.path.join(\"trained_models/mobilenet_v3\", \"best.pt\"))\n",
    "\n",
    "if __name__ == '__main__':\n",
    "    train()\n"
   ],
   "metadata": {
    "collapsed": false,
    "ExecuteTime": {
     "end_time": "2025-02-05T09:04:08.167286300Z",
     "start_time": "2025-02-05T07:38:14.246692400Z"
    }
   },
   "id": "780c00e12c2c9a7a"
  },
  {
   "cell_type": "code",
   "execution_count": null,
   "outputs": [],
   "source": [],
   "metadata": {
    "collapsed": false
   },
   "id": "d8ac11a2ca92c727"
  }
 ],
 "metadata": {
  "kernelspec": {
   "display_name": "Python 3",
   "language": "python",
   "name": "python3"
  },
  "language_info": {
   "codemirror_mode": {
    "name": "ipython",
    "version": 2
   },
   "file_extension": ".py",
   "mimetype": "text/x-python",
   "name": "python",
   "nbconvert_exporter": "python",
   "pygments_lexer": "ipython2",
   "version": "2.7.6"
  }
 },
 "nbformat": 4,
 "nbformat_minor": 5
}
